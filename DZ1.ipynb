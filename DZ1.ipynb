{
 "cells": [
  {
   "cell_type": "code",
   "execution_count": 67,
   "metadata": {},
   "outputs": [
    {
     "name": "stdout",
     "output_type": "stream",
     "text": [
      "123\n",
      "2\n"
     ]
    }
   ],
   "source": [
    "word = str(input())\n",
    "b = len(word) // 2\n",
    "if len(word) % 2 == 0:\n",
    "    print (word[b-1:b+1])\n",
    "else:\n",
    "    print (word[b])"
   ]
  },
  {
   "cell_type": "code",
   "execution_count": 68,
   "metadata": {},
   "outputs": [
    {
     "name": "stdout",
     "output_type": "stream",
     "text": [
      "123\n",
      "123\n",
      "0\n",
      "246\n"
     ]
    }
   ],
   "source": [
    "a = 1\n",
    "sum = 0\n",
    "while a != 0:\n",
    "    a = int(input())\n",
    "    sum = sum + a\n",
    "print (sum)"
   ]
  },
  {
   "cell_type": "code",
   "execution_count": 4,
   "metadata": {},
   "outputs": [
    {
     "name": "stdout",
     "output_type": "stream",
     "text": [
      "123 123 123\n",
      "123 13 13\n",
      "[('123', '123'), ('123', '13'), ('123', '13')]\n"
     ]
    }
   ],
   "source": [
    "malenames = str(input())\n",
    "femalenames = str(input())\n",
    "malenames = malenames.split()\n",
    "femalenames = femalenames.split()\n",
    "if len(malenames) != len(femalenames):\n",
    "    print ('Внимание, кто-то может остаться без пары!')\n",
    "else:\n",
    "    malenames = sorted(malenames)\n",
    "    femalenames = sorted(femalenames)\n",
    "    res = list(zip(malenames, femalenames))\n",
    "    print (res)"
   ]
  },
  {
   "cell_type": "code",
   "execution_count": 3,
   "metadata": {},
   "outputs": [
    {
     "name": "stdout",
     "output_type": "stream",
     "text": [
      "Средняя температура в странах:\n",
      "Thailand-23.86\n",
      "Germany-13.8\n",
      "Russia-3.71\n",
      "Poland-12.0\n"
     ]
    }
   ],
   "source": [
    "countries_temperature = [\n",
    "['Thailand', [75.2, 77, 78.8, 73.4, 68, 75.2, 77]],\n",
    "['Germany', [57.2, 55.4, 59, 59, 53.6]],\n",
    "['Russia', [35.6, 37.4, 39.2, 41, 42.8, 39.2, 35.6]],\n",
    "['Poland', [50, 50, 53.6, 57.2, 55.4, 55.4]]\n",
    "]\n",
    "sumtemp = 0.0\n",
    "avgtemp = 0.0\n",
    "celstemp = 0.0\n",
    "print (\"Средняя температура в странах:\")\n",
    "for country in countries_temperature:\n",
    "    sumtemp = sum (country[1])\n",
    "    avgtemp = sumtemp / len(country[1])\n",
    "    celstemp = round(5/9*(avgtemp-32),2)\n",
    "    print (f'{country[0]}-{celstemp}')\n"
   ]
  },
  {
   "cell_type": "code",
   "execution_count": 76,
   "metadata": {},
   "outputs": [
    {
     "data": {
      "text/plain": [
       "list"
      ]
     },
     "execution_count": 76,
     "metadata": {},
     "output_type": "execute_result"
    }
   ],
   "source": [
    "\n",
    "\n"
   ]
  },
  {
   "cell_type": "code",
   "execution_count": null,
   "metadata": {},
   "outputs": [],
   "source": []
  }
 ],
 "metadata": {
  "kernelspec": {
   "display_name": "Python 3",
   "language": "python",
   "name": "python3"
  },
  "language_info": {
   "codemirror_mode": {
    "name": "ipython",
    "version": 3
   },
   "file_extension": ".py",
   "mimetype": "text/x-python",
   "name": "python",
   "nbconvert_exporter": "python",
   "pygments_lexer": "ipython3",
   "version": "3.8.5"
  }
 },
 "nbformat": 4,
 "nbformat_minor": 4
}
